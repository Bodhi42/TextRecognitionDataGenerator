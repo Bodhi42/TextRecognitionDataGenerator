{
 "cells": [
  {
   "cell_type": "markdown",
   "metadata": {},
   "source": [
  "# Russian text generation demo\n",
  "Generate a few random Russian text images using TRDG.\n",
  "Provide a path to a font with Cyrillic characters."
   ]
  },
  {
   "cell_type": "code",
   "execution_count": null,
   "metadata": {},
   "outputs": [],
   "source": [
  "from trdg.generators import GeneratorFromRandom\n",
  "from IPython.display import display\n\n",
  "font_path = '/usr/share/fonts/truetype/dejavu/DejaVuSans.ttf'  # path to a Cyrillic font\n",
  "generator = GeneratorFromRandom(count=3, length=5, language='ru', fonts=[font_path])\n",
  "for image, label in generator:\n",
  "    print(label)\n",
  "    display(image)\n"
   ]
  }
 ],
 "metadata": {
  "kernelspec": {
   "display_name": "Python 3",
   "language": "python",
   "name": "python3"
  },
  "language_info": {
   "name": "python",
   "version": "3"
  }
 },
 "nbformat": 4,
 "nbformat_minor": 5
}
