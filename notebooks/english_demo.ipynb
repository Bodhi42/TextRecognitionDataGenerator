{
 "cells": [
  {
   "cell_type": "markdown",
   "metadata": {},
   "source": [
    "# English text generation demo\n",
    "Generate a few random English text images using TRDG."
   ]
  },
  {
   "cell_type": "code",
   "execution_count": null,
   "metadata": {},
   "outputs": [],
   "source": [
    "from trdg.generators import GeneratorFromRandom\n",
    "from IPython.display import display\n\n",
    "generator = GeneratorFromRandom(count=3, length=5, language='en')\n",
    "for image, label in generator:\n",
    "    print(label)\n",
    "    display(image)\n"
   ]
  }
 ],
 "metadata": {
  "kernelspec": {
   "display_name": "Python 3",
   "language": "python",
   "name": "python3"
  },
  "language_info": {
   "name": "python",
   "version": "3"
  }
 },
 "nbformat": 4,
 "nbformat_minor": 5
}
